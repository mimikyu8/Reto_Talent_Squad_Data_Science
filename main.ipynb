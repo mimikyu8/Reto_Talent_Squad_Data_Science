{
 "cells": [
  {
   "cell_type": "markdown",
   "metadata": {},
   "source": [
    "## Background y descripción del reto"
   ]
  },
  {
   "cell_type": "markdown",
   "metadata": {},
   "source": [
    "«Aproximadamente 300 sensores están conectados al cohete y al lanzador móvil para detectar, registrar y transmitir la información». SpaceX está lanzando una nueva cadena de cohetes con un nuevo propósito de negocio, rocket-commerce. Para poder conseguirlo, Elon Musk quiere predecir el estado de los cohetes para poder ajustar costes de forma dinámica. Para ello nos ha proporcionado los datos de varios sensores y su estado. ¿El objetivo? Crea un modelo que sea capaz de predecir el estado.\n",
    "\n",
    "El objetivo de este reto será ayudar a Elon realizando el modelado predictivo a partir de un dataset que contiene las mediciones hechas por sus sensores y tipos."
   ]
  },
  {
   "cell_type": "markdown",
   "metadata": {},
   "source": [
    "Variables del dataset:\n",
    "\n",
    " Features: El dataset contiene 6 features en 6 columnas, que son los parámetros medidos de los diferentes sensores. Estos corresponden a las vibraciones detectadas en el cohete.\n",
    "\n",
    " Target: El target corresponde al 'label' que clasifica los tipos de estados del cohete en función de los features medidos por los sensores.\n",
    "\n",
    "   * Target 0 corresponde a Estable\n",
    "   * Target 1 corresponde a Turbulencia Ligera\n",
    "   * Target 2 corresponde a Turbulencia Moderada\n",
    "   * Target 3 corresponde a Turbulencia Severa\n",
    "   * Target 4 corresponde a Turbulencia Extrema"
   ]
  },
  {
   "cell_type": "markdown",
   "metadata": {},
   "source": [
    "El objetivo del reto será realizar un modelo predictivo que permita conocer el tipo de erupción que tendrá un cohete en función de las vibraciones medidas por los sensores.\n",
    "\n",
    "Una vez se haya hecho y entrenado el modelo predictivo, este se tendrá que emplear con los features del dataset de testing 'space_X_test.csv'. Estas predicciones se tendrán que entregar en formato csv donde tendrá que aparecer tan solo una columna en la que en la primera fila sea un texto cualquiera y las predicciones empiecen en la fila 2.\n",
    "\n",
    "La calidad de la predicción se medirá a partir del f1-score (macro)."
   ]
  },
  {
   "cell_type": "code",
   "execution_count": 23,
   "metadata": {
    "ExecuteTime": {
     "end_time": "2022-06-21T18:42:54.571386Z",
     "start_time": "2022-06-21T18:40:55.941652Z"
    }
   },
   "outputs": [],
   "source": [
    "#data exploration\n",
    "import pandas as pd \n",
    "import numpy as np\n",
    "import matplotlib.pyplot as plt\n",
    "import seaborn as sns\n",
    "from statsmodels.stats.outliers_influence import variance_inflation_factor\n",
    "\n",
    "#preprocessing libraries\n",
    "from sklearn.model_selection import train_test_split\n",
    "from sklearn.preprocessing import RobustScaler\n",
    "from sklearn.preprocessing import QuantileTransformer\n",
    "from sklearn.preprocessing import PowerTransformer\n",
    "from sklearn.decomposition import PCA"
   ]
  },
  {
   "cell_type": "code",
   "execution_count": 2,
   "metadata": {
    "ExecuteTime": {
     "end_time": "2022-06-21T18:42:56.839835Z",
     "start_time": "2022-06-21T18:42:54.574376Z"
    }
   },
   "outputs": [],
   "source": [
    "df = pd.read_csv(\"space_X_train.csv\", index_col = 0)"
   ]
  },
  {
   "cell_type": "code",
   "execution_count": 3,
   "metadata": {
    "ExecuteTime": {
     "end_time": "2022-06-21T18:42:57.434249Z",
     "start_time": "2022-06-21T18:42:56.842829Z"
    }
   },
   "outputs": [
    {
     "data": {
      "text/html": [
       "<div>\n",
       "<style scoped>\n",
       "    .dataframe tbody tr th:only-of-type {\n",
       "        vertical-align: middle;\n",
       "    }\n",
       "\n",
       "    .dataframe tbody tr th {\n",
       "        vertical-align: top;\n",
       "    }\n",
       "\n",
       "    .dataframe thead th {\n",
       "        text-align: right;\n",
       "    }\n",
       "</style>\n",
       "<table border=\"1\" class=\"dataframe\">\n",
       "  <thead>\n",
       "    <tr style=\"text-align: right;\">\n",
       "      <th></th>\n",
       "      <th>sensor_1</th>\n",
       "      <th>sensor_2</th>\n",
       "      <th>sensor_3</th>\n",
       "      <th>sensor_4</th>\n",
       "      <th>sensor_5</th>\n",
       "      <th>sensor_6</th>\n",
       "      <th>target</th>\n",
       "    </tr>\n",
       "  </thead>\n",
       "  <tbody>\n",
       "    <tr>\n",
       "      <th>0</th>\n",
       "      <td>0.474335</td>\n",
       "      <td>0.881640</td>\n",
       "      <td>-2.050543</td>\n",
       "      <td>-1.251935</td>\n",
       "      <td>-1.035151</td>\n",
       "      <td>-1.934367</td>\n",
       "      <td>4</td>\n",
       "    </tr>\n",
       "    <tr>\n",
       "      <th>1</th>\n",
       "      <td>-1.034675</td>\n",
       "      <td>1.741801</td>\n",
       "      <td>-1.660629</td>\n",
       "      <td>-1.555989</td>\n",
       "      <td>-0.337553</td>\n",
       "      <td>-2.473838</td>\n",
       "      <td>0</td>\n",
       "    </tr>\n",
       "    <tr>\n",
       "      <th>2</th>\n",
       "      <td>-0.563221</td>\n",
       "      <td>-0.688381</td>\n",
       "      <td>-0.318415</td>\n",
       "      <td>-1.845172</td>\n",
       "      <td>0.352366</td>\n",
       "      <td>-0.912928</td>\n",
       "      <td>1</td>\n",
       "    </tr>\n",
       "    <tr>\n",
       "      <th>3</th>\n",
       "      <td>-1.268179</td>\n",
       "      <td>2.770688</td>\n",
       "      <td>1.054193</td>\n",
       "      <td>2.830389</td>\n",
       "      <td>0.395093</td>\n",
       "      <td>0.677715</td>\n",
       "      <td>3</td>\n",
       "    </tr>\n",
       "    <tr>\n",
       "      <th>4</th>\n",
       "      <td>-1.216380</td>\n",
       "      <td>-0.391267</td>\n",
       "      <td>-2.898931</td>\n",
       "      <td>-0.913074</td>\n",
       "      <td>-2.171857</td>\n",
       "      <td>-2.367490</td>\n",
       "      <td>0</td>\n",
       "    </tr>\n",
       "  </tbody>\n",
       "</table>\n",
       "</div>"
      ],
      "text/plain": [
       "   sensor_1  sensor_2  sensor_3  sensor_4  sensor_5  sensor_6  target\n",
       "0  0.474335  0.881640 -2.050543 -1.251935 -1.035151 -1.934367       4\n",
       "1 -1.034675  1.741801 -1.660629 -1.555989 -0.337553 -2.473838       0\n",
       "2 -0.563221 -0.688381 -0.318415 -1.845172  0.352366 -0.912928       1\n",
       "3 -1.268179  2.770688  1.054193  2.830389  0.395093  0.677715       3\n",
       "4 -1.216380 -0.391267 -2.898931 -0.913074 -2.171857 -2.367490       0"
      ]
     },
     "execution_count": 3,
     "metadata": {},
     "output_type": "execute_result"
    }
   ],
   "source": [
    "df.head()"
   ]
  },
  {
   "cell_type": "code",
   "execution_count": 4,
   "metadata": {
    "ExecuteTime": {
     "end_time": "2022-06-21T18:42:57.450208Z",
     "start_time": "2022-06-21T18:42:57.437243Z"
    }
   },
   "outputs": [
    {
     "data": {
      "text/plain": [
       "(2100, 7)"
      ]
     },
     "execution_count": 4,
     "metadata": {},
     "output_type": "execute_result"
    }
   ],
   "source": [
    "df.shape"
   ]
  },
  {
   "cell_type": "code",
   "execution_count": 5,
   "metadata": {
    "ExecuteTime": {
     "end_time": "2022-06-21T18:42:57.999344Z",
     "start_time": "2022-06-21T18:42:57.453206Z"
    },
    "scrolled": true
   },
   "outputs": [
    {
     "data": {
      "text/plain": [
       "sensor_1    0\n",
       "sensor_2    0\n",
       "sensor_3    0\n",
       "sensor_4    0\n",
       "sensor_5    0\n",
       "sensor_6    0\n",
       "target      0\n",
       "dtype: int64"
      ]
     },
     "execution_count": 5,
     "metadata": {},
     "output_type": "execute_result"
    }
   ],
   "source": [
    "df.isna().sum()"
   ]
  },
  {
   "cell_type": "code",
   "execution_count": 8,
   "metadata": {},
   "outputs": [
    {
     "data": {
      "text/plain": [
       "0    427\n",
       "3    426\n",
       "1    423\n",
       "2    419\n",
       "4    405\n",
       "Name: target, dtype: int64"
      ]
     },
     "execution_count": 8,
     "metadata": {},
     "output_type": "execute_result"
    }
   ],
   "source": [
    "df.target.value_counts()"
   ]
  },
  {
   "cell_type": "markdown",
   "metadata": {},
   "source": [
    "Los valores del target están balanceados, es decir, no hay valores subrepresentados. Tampoco hay datos faltantes en el dataset por lo que se puede seguir. Se procede a explorar las features. El objetivo es ver cómo se comportan para escoger qué feature engineering aplicarles, sobre todo, ver qué distribución tienen y si hay valores atípicos (outliers). "
   ]
  },
  {
   "cell_type": "code",
   "execution_count": 6,
   "metadata": {
    "ExecuteTime": {
     "end_time": "2022-06-21T19:21:16.932164Z",
     "start_time": "2022-06-21T19:21:16.866304Z"
    }
   },
   "outputs": [
    {
     "data": {
      "text/html": [
       "<div>\n",
       "<style scoped>\n",
       "    .dataframe tbody tr th:only-of-type {\n",
       "        vertical-align: middle;\n",
       "    }\n",
       "\n",
       "    .dataframe tbody tr th {\n",
       "        vertical-align: top;\n",
       "    }\n",
       "\n",
       "    .dataframe thead th {\n",
       "        text-align: right;\n",
       "    }\n",
       "</style>\n",
       "<table border=\"1\" class=\"dataframe\">\n",
       "  <thead>\n",
       "    <tr style=\"text-align: right;\">\n",
       "      <th></th>\n",
       "      <th>sensor_1</th>\n",
       "      <th>sensor_2</th>\n",
       "      <th>sensor_3</th>\n",
       "      <th>sensor_4</th>\n",
       "      <th>sensor_5</th>\n",
       "      <th>sensor_6</th>\n",
       "    </tr>\n",
       "  </thead>\n",
       "  <tbody>\n",
       "    <tr>\n",
       "      <th>count</th>\n",
       "      <td>2100.000000</td>\n",
       "      <td>2100.000000</td>\n",
       "      <td>2100.000000</td>\n",
       "      <td>2100.000000</td>\n",
       "      <td>2100.000000</td>\n",
       "      <td>2100.000000</td>\n",
       "    </tr>\n",
       "    <tr>\n",
       "      <th>mean</th>\n",
       "      <td>-0.204656</td>\n",
       "      <td>0.199249</td>\n",
       "      <td>-0.378140</td>\n",
       "      <td>-0.206425</td>\n",
       "      <td>-0.186419</td>\n",
       "      <td>-0.433229</td>\n",
       "    </tr>\n",
       "    <tr>\n",
       "      <th>std</th>\n",
       "      <td>1.543613</td>\n",
       "      <td>1.614024</td>\n",
       "      <td>1.450548</td>\n",
       "      <td>1.442225</td>\n",
       "      <td>1.501573</td>\n",
       "      <td>1.188791</td>\n",
       "    </tr>\n",
       "    <tr>\n",
       "      <th>min</th>\n",
       "      <td>-6.683655</td>\n",
       "      <td>-5.383371</td>\n",
       "      <td>-6.147055</td>\n",
       "      <td>-5.653594</td>\n",
       "      <td>-5.912521</td>\n",
       "      <td>-4.433189</td>\n",
       "    </tr>\n",
       "    <tr>\n",
       "      <th>25%</th>\n",
       "      <td>-1.171340</td>\n",
       "      <td>-0.877386</td>\n",
       "      <td>-1.365990</td>\n",
       "      <td>-1.259403</td>\n",
       "      <td>-1.211685</td>\n",
       "      <td>-1.131944</td>\n",
       "    </tr>\n",
       "    <tr>\n",
       "      <th>50%</th>\n",
       "      <td>-0.443868</td>\n",
       "      <td>0.320507</td>\n",
       "      <td>-0.439745</td>\n",
       "      <td>-0.176504</td>\n",
       "      <td>-0.195751</td>\n",
       "      <td>-0.406754</td>\n",
       "    </tr>\n",
       "    <tr>\n",
       "      <th>75%</th>\n",
       "      <td>0.890023</td>\n",
       "      <td>1.321430</td>\n",
       "      <td>0.662898</td>\n",
       "      <td>0.866879</td>\n",
       "      <td>0.851843</td>\n",
       "      <td>0.348593</td>\n",
       "    </tr>\n",
       "    <tr>\n",
       "      <th>max</th>\n",
       "      <td>4.565547</td>\n",
       "      <td>6.700133</td>\n",
       "      <td>4.157518</td>\n",
       "      <td>4.371912</td>\n",
       "      <td>5.068783</td>\n",
       "      <td>4.016324</td>\n",
       "    </tr>\n",
       "  </tbody>\n",
       "</table>\n",
       "</div>"
      ],
      "text/plain": [
       "          sensor_1     sensor_2     sensor_3     sensor_4     sensor_5  \\\n",
       "count  2100.000000  2100.000000  2100.000000  2100.000000  2100.000000   \n",
       "mean     -0.204656     0.199249    -0.378140    -0.206425    -0.186419   \n",
       "std       1.543613     1.614024     1.450548     1.442225     1.501573   \n",
       "min      -6.683655    -5.383371    -6.147055    -5.653594    -5.912521   \n",
       "25%      -1.171340    -0.877386    -1.365990    -1.259403    -1.211685   \n",
       "50%      -0.443868     0.320507    -0.439745    -0.176504    -0.195751   \n",
       "75%       0.890023     1.321430     0.662898     0.866879     0.851843   \n",
       "max       4.565547     6.700133     4.157518     4.371912     5.068783   \n",
       "\n",
       "          sensor_6  \n",
       "count  2100.000000  \n",
       "mean     -0.433229  \n",
       "std       1.188791  \n",
       "min      -4.433189  \n",
       "25%      -1.131944  \n",
       "50%      -0.406754  \n",
       "75%       0.348593  \n",
       "max       4.016324  "
      ]
     },
     "execution_count": 6,
     "metadata": {},
     "output_type": "execute_result"
    }
   ],
   "source": [
    "features = df.drop(\"target\", axis = 1)\n",
    "features.describe()"
   ]
  },
  {
   "cell_type": "code",
   "execution_count": 18,
   "metadata": {
    "scrolled": true
   },
   "outputs": [
    {
     "name": "stderr",
     "output_type": "stream",
     "text": [
      "C:\\ProgramData\\Anaconda3\\lib\\site-packages\\statsmodels\\stats\\outliers_influence.py:193: RuntimeWarning: divide by zero encountered in double_scalars\n",
      "  vif = 1. / (1. - r_squared_i)\n"
     ]
    },
    {
     "data": {
      "text/html": [
       "<div>\n",
       "<style scoped>\n",
       "    .dataframe tbody tr th:only-of-type {\n",
       "        vertical-align: middle;\n",
       "    }\n",
       "\n",
       "    .dataframe tbody tr th {\n",
       "        vertical-align: top;\n",
       "    }\n",
       "\n",
       "    .dataframe thead th {\n",
       "        text-align: right;\n",
       "    }\n",
       "</style>\n",
       "<table border=\"1\" class=\"dataframe\">\n",
       "  <thead>\n",
       "    <tr style=\"text-align: right;\">\n",
       "      <th></th>\n",
       "      <th>variables</th>\n",
       "      <th>VIF</th>\n",
       "    </tr>\n",
       "  </thead>\n",
       "  <tbody>\n",
       "    <tr>\n",
       "      <th>0</th>\n",
       "      <td>sensor_1</td>\n",
       "      <td>inf</td>\n",
       "    </tr>\n",
       "    <tr>\n",
       "      <th>1</th>\n",
       "      <td>sensor_2</td>\n",
       "      <td>inf</td>\n",
       "    </tr>\n",
       "    <tr>\n",
       "      <th>2</th>\n",
       "      <td>sensor_3</td>\n",
       "      <td>inf</td>\n",
       "    </tr>\n",
       "    <tr>\n",
       "      <th>3</th>\n",
       "      <td>sensor_4</td>\n",
       "      <td>inf</td>\n",
       "    </tr>\n",
       "    <tr>\n",
       "      <th>4</th>\n",
       "      <td>sensor_5</td>\n",
       "      <td>inf</td>\n",
       "    </tr>\n",
       "    <tr>\n",
       "      <th>5</th>\n",
       "      <td>sensor_6</td>\n",
       "      <td>inf</td>\n",
       "    </tr>\n",
       "  </tbody>\n",
       "</table>\n",
       "</div>"
      ],
      "text/plain": [
       "  variables  VIF\n",
       "0  sensor_1  inf\n",
       "1  sensor_2  inf\n",
       "2  sensor_3  inf\n",
       "3  sensor_4  inf\n",
       "4  sensor_5  inf\n",
       "5  sensor_6  inf"
      ]
     },
     "execution_count": 18,
     "metadata": {},
     "output_type": "execute_result"
    }
   ],
   "source": [
    "#show multicollinearity in features\n",
    "def vif(X):\n",
    "    vifDF = pd.DataFrame()\n",
    "    vifDF[\"variables\"] = X.columns\n",
    "    vifDF[\"VIF\"] = [variance_inflation_factor(X.values, i) for i in range(X.shape[1])]\n",
    "    return vifDF\n",
    "\n",
    "vif(features)"
   ]
  },
  {
   "cell_type": "markdown",
   "metadata": {},
   "source": [
    "El código ejecutado en la celda superior muestra un factor de inflación de la varianza (VIF) infinito. Cuanto más alto es este valor, más colinearidad hay entre features, y a partir de un VIF de 5 se considera ya colinearidad. En este caso, el infinito calculado se debe a que $r^{2}$, el valor que representa la colinearidad y correlación, es igual a 1, lo que provoca una división entre 0, como se ve en la siguiente fórmula:\n",
    "\n",
    "$ VIF = \\frac{1}{1 - r^{2}} $\n",
    "\n",
    "Esto indica que aplicar análisis de componentes principales (PCA) podría ayudar al rendimiento del modelo. "
   ]
  },
  {
   "cell_type": "code",
   "execution_count": 7,
   "metadata": {
    "ExecuteTime": {
     "end_time": "2022-06-21T19:24:18.926174Z",
     "start_time": "2022-06-21T19:24:18.506785Z"
    }
   },
   "outputs": [
    {
     "data": {
      "image/png": "[encoded data removed]",
      "text/plain": [
       "<Figure size 720x576 with 1 Axes>"
      ]
     },
     "metadata": {
      "needs_background": "light"
     },
     "output_type": "display_data"
    }
   ],
   "source": [
    "plt.figure(figsize = (10, 8))\n",
    "sns.boxplot(data = features, palette = \"viridis\").set(title = \"Distribución de los datos\")\n",
    "plt.show()"
   ]
  },
  {
   "cell_type": "markdown",
   "metadata": {},
   "source": [
    "La gráfica muestra que la mitad de los datos cae en un rango de -1 a 1 aproximadamente pero también hay bastantes valores atípicos en todos los casos. Por esta razón, se van a aplicar métodos de estandarización que no sean tan sensibles a outliers. Se probarán varios métodos para veriguar cuál aporta el mejor resultado para este dataset: RobustScaler, PowerTransformer Yeo-Johnson, y QuantileTransformer uniforme y normal.\n",
    "\n",
    "También se dividirán los datos en train y test, lo que ayudará a la hora de seleccionar tanto el método de ingeniería de variables adecuado, como el modelo en sí."
   ]
  },
  {
   "cell_type": "code",
   "execution_count": 19,
   "metadata": {},
   "outputs": [],
   "source": [
    "#split into test and train\n",
    "X_train, X_test, y_train, y_test = train_test_split(features, df.target, test_size = 0.3, random_state = 8)"
   ]
  },
  {
   "cell_type": "code",
   "execution_count": 25,
   "metadata": {},
   "outputs": [],
   "source": [
    "#RobustScaler\n",
    "rs = RobustScaler(quantile_range = (25, 75)).fit_transform(X_train)\n",
    "\n",
    "#PowerTransformer Yeo-Johnson\n",
    "yj = PowerTransformer(method = \"yeo-johnson\").fit_transform(X_train)\n",
    "\n",
    "#QuantileTransformer uniform\n",
    "qtu = QuantileTransformer(output_distribution = \"uniform\").fit_transform(X_train)\n",
    "\n",
    "#QuantileTransformer normal\n",
    "qtn = QuantileTransformer(output_distribution = \"normal\").fit_transform(X_train)"
   ]
  },
  {
   "cell_type": "code",
   "execution_count": null,
   "metadata": {},
   "outputs": [],
   "source": [
    "data = {}\n",
    "results = pd.DataFrame(data, )"
   ]
  },
  {
   "cell_type": "code",
   "execution_count": null,
   "metadata": {},
   "outputs": [],
   "source": [
    "plt.figure(figsize=(15, 12))\n",
    "plt.subplots_adjust(hspace=0.5)\n",
    "plt.suptitle(\"Daily closing prices\", fontsize=18, y=0.95)\n",
    "\n",
    "for n, i in enumerate(results):\n",
    "    # add a new subplot iteratively\n",
    "    ax = plt.subplot(3, 2, n + 1)\n",
    "    "
   ]
  },
  {
   "cell_type": "code",
   "execution_count": 24,
   "metadata": {},
   "outputs": [
    {
     "ename": "NameError",
     "evalue": "name 'norm' is not defined",
     "output_type": "error",
     "traceback": [
      "\u001b[1;31m---------------------------------------------------------------------------\u001b[0m",
      "\u001b[1;31mNameError\u001b[0m                                 Traceback (most recent call last)",
      "\u001b[1;32m<ipython-input-24-04a74ae97a75>\u001b[0m in \u001b[0;36m<module>\u001b[1;34m\u001b[0m\n\u001b[1;32m----> 1\u001b[1;33m \u001b[0mpca\u001b[0m \u001b[1;33m=\u001b[0m \u001b[0mPCA\u001b[0m\u001b[1;33m(\u001b[0m\u001b[1;33m)\u001b[0m\u001b[1;33m.\u001b[0m\u001b[0mfit\u001b[0m\u001b[1;33m(\u001b[0m\u001b[0mnorm\u001b[0m\u001b[1;33m)\u001b[0m\u001b[1;33m\u001b[0m\u001b[1;33m\u001b[0m\u001b[0m\n\u001b[0m\u001b[0;32m      2\u001b[0m \u001b[0mplt\u001b[0m\u001b[1;33m.\u001b[0m\u001b[0mplot\u001b[0m\u001b[1;33m(\u001b[0m\u001b[0mnp\u001b[0m\u001b[1;33m.\u001b[0m\u001b[0mcumsum\u001b[0m\u001b[1;33m(\u001b[0m\u001b[0mpca\u001b[0m\u001b[1;33m.\u001b[0m\u001b[0mexplained_variance_ratio_\u001b[0m\u001b[1;33m)\u001b[0m\u001b[1;33m,\u001b[0m \u001b[0mmarker\u001b[0m \u001b[1;33m=\u001b[0m \u001b[1;34m\"o\"\u001b[0m\u001b[1;33m)\u001b[0m\u001b[1;33m\u001b[0m\u001b[1;33m\u001b[0m\u001b[0m\n\u001b[0;32m      3\u001b[0m \u001b[0mplt\u001b[0m\u001b[1;33m.\u001b[0m\u001b[0maxhline\u001b[0m\u001b[1;33m(\u001b[0m\u001b[1;36m0.95\u001b[0m\u001b[1;33m,\u001b[0m \u001b[0mcolor\u001b[0m \u001b[1;33m=\u001b[0m \u001b[1;34m\"r\"\u001b[0m\u001b[1;33m,\u001b[0m \u001b[0mlinestyle\u001b[0m \u001b[1;33m=\u001b[0m \u001b[1;34m\"--\"\u001b[0m\u001b[1;33m)\u001b[0m\u001b[1;33m\u001b[0m\u001b[1;33m\u001b[0m\u001b[0m\n\u001b[0;32m      4\u001b[0m \u001b[0mplt\u001b[0m\u001b[1;33m.\u001b[0m\u001b[0mxlim\u001b[0m\u001b[1;33m(\u001b[0m\u001b[1;33m[\u001b[0m\u001b[1;36m0\u001b[0m\u001b[1;33m,\u001b[0m \u001b[1;36m10\u001b[0m\u001b[1;33m]\u001b[0m\u001b[1;33m)\u001b[0m\u001b[1;33m\u001b[0m\u001b[1;33m\u001b[0m\u001b[0m\n\u001b[0;32m      5\u001b[0m \u001b[0mplt\u001b[0m\u001b[1;33m.\u001b[0m\u001b[0mxlabel\u001b[0m\u001b[1;33m(\u001b[0m\u001b[1;34m\"Número de componentes\"\u001b[0m\u001b[1;33m)\u001b[0m\u001b[1;33m\u001b[0m\u001b[1;33m\u001b[0m\u001b[0m\n",
      "\u001b[1;31mNameError\u001b[0m: name 'norm' is not defined"
     ]
    }
   ],
   "source": [
    "fig = plt.figure(figsize = (11, 4))\n",
    "\n",
    "ax1 = fig.add_subplot(1, 3, 1)\n",
    "\n",
    "for i in df:\n",
    "    pca = PCA().fit(norm)\n",
    "    plt.plot(np.cumsum(pca.explained_variance_ratio_), marker = \"o\")\n",
    "    plt.axhline(0.95, color = \"r\", linestyle = \"--\")\n",
    "    plt.xlim([0, 10])\n",
    "    plt.xlabel(\"Número de componentes\")\n",
    "    plt.ylabel(\"Varianza acumulada explicada\")\n",
    "    plt.show()\n"
   ]
  },
  {
   "cell_type": "code",
   "execution_count": null,
   "metadata": {},
   "outputs": [],
   "source": []
  }
 ],
 "metadata": {
  "kernelspec": {
   "display_name": "Python 3",
   "language": "python",
   "name": "python3"
  },
  "language_info": {
   "codemirror_mode": {
    "name": "ipython",
    "version": 3
   },
   "file_extension": ".py",
   "mimetype": "text/x-python",
   "name": "python",
   "nbconvert_exporter": "python",
   "pygments_lexer": "ipython3",
   "version": "3.7.6"
  },
  "toc": {
   "base_numbering": 1,
   "nav_menu": {},
   "number_sections": true,
   "sideBar": true,
   "skip_h1_title": false,
   "title_cell": "Table of Contents",
   "title_sidebar": "Contents",
   "toc_cell": false,
   "toc_position": {},
   "toc_section_display": true,
   "toc_window_display": false
  }
 },
 "nbformat": 4,
 "nbformat_minor": 5
}
