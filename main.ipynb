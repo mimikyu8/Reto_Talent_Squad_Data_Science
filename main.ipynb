{
 "cells": [
  {
   "cell_type": "markdown",
   "id": "a75f5ac5",
   "metadata": {},
   "source": [
    "## Exploración de los datos"
   ]
  },
  {
   "cell_type": "markdown",
   "id": "9d7a61aa",
   "metadata": {},
   "source": [
    "Variables del dataset:\n",
    "\n",
    " Features: El dataset contiene 6 features en 6 columnas, que son los parámetros medidos de los diferentes sensores. Estos corresponden a las vibraciones detectadas en el cohete.\n",
    "\n",
    " Target: El target corresponde al 'label' que clasifica los tipos de estados del cohete en función de los features medidos por los sensores.\n",
    "\n",
    "   * Target 0 corresponde a Estable\n",
    "   * Target 1 corresponde a Turbulencia Ligera\n",
    "   * Target 2 corresponde a Turbulencia Moderada\n",
    "   * Target 3 corresponde a Turbulencia Severa\n",
    "   * Target 4 corresponde a Turbulencia Extrema"
   ]
  },
  {
   "cell_type": "markdown",
   "id": "5d7fe654",
   "metadata": {},
   "source": [
    "El objetivo del reto será realizar un modelo predictivo que permita conocer el tipo de erupción que tendrá un cohete en función de las vibraciones medidas por los sensores.\n",
    "\n",
    "Una vez se haya hecho y entrenado el modelo predictivo, este se tendrá que emplear con los features del dataset de testing 'space_X_test.csv'. Estas predicciones se tendrán que entregar en formato csv donde tendrá que aparecer tan solo una columna en la que en la primera fila sea un texto cualquiera y las predicciones empiecen en la fila 2.\n",
    "\n",
    "La calidad de la predicción se medirá a partir del f1-score (macro)."
   ]
  },
  {
   "cell_type": "code",
   "execution_count": 1,
   "id": "a57b0126",
   "metadata": {
    "ExecuteTime": {
     "end_time": "2022-06-25T22:40:54.466584Z",
     "start_time": "2022-06-25T22:39:43.745133Z"
    }
   },
   "outputs": [],
   "source": [
    "#data exploration\n",
    "import pandas as pd \n",
    "import numpy as np\n",
    "import matplotlib.pyplot as plt\n",
    "import seaborn as sns\n",
    "from statsmodels.stats.outliers_influence import variance_inflation_factor\n",
    "\n",
    "#preprocessing libraries\n",
    "from sklearn.model_selection import cross_val_score\n",
    "from sklearn.model_selection import train_test_split, RepeatedKFold, GridSearchCV, KFold\n",
    "from sklearn.preprocessing import RobustScaler\n",
    "from sklearn.preprocessing import QuantileTransformer\n",
    "from sklearn.preprocessing import PowerTransformer\n",
    "from sklearn.decomposition import PCA\n",
    "from sklearn.pipeline import Pipeline\n",
    "\n",
    "#model selection and algorithms\n",
    "from sklearn.ensemble import RandomForestClassifier\n",
    "from sklearn.linear_model import LogisticRegression\n",
    "from sklearn.neighbors import KNeighborsClassifier\n",
    "from sklearn.svm import SVC\n",
    "from sklearn.metrics import f1_score"
   ]
  },
  {
   "cell_type": "code",
   "execution_count": 2,
   "id": "614b2c1b",
   "metadata": {
    "ExecuteTime": {
     "end_time": "2022-06-25T22:40:55.126290Z",
     "start_time": "2022-06-25T22:40:54.468536Z"
    }
   },
   "outputs": [],
   "source": [
    "df = pd.read_csv(\"space_X_train.csv\", index_col = 0)"
   ]
  },
  {
   "cell_type": "code",
   "execution_count": 3,
   "id": "2d7d06c4",
   "metadata": {
    "ExecuteTime": {
     "end_time": "2022-06-21T18:42:57.434249Z",
     "start_time": "2022-06-21T18:42:56.842829Z"
    }
   },
   "outputs": [
    {
     "data": {
      "text/html": [
       "<div>\n",
       "<style scoped>\n",
       "    .dataframe tbody tr th:only-of-type {\n",
       "        vertical-align: middle;\n",
       "    }\n",
       "\n",
       "    .dataframe tbody tr th {\n",
       "        vertical-align: top;\n",
       "    }\n",
       "\n",
       "    .dataframe thead th {\n",
       "        text-align: right;\n",
       "    }\n",
       "</style>\n",
       "<table border=\"1\" class=\"dataframe\">\n",
       "  <thead>\n",
       "    <tr style=\"text-align: right;\">\n",
       "      <th></th>\n",
       "      <th>sensor_1</th>\n",
       "      <th>sensor_2</th>\n",
       "      <th>sensor_3</th>\n",
       "      <th>sensor_4</th>\n",
       "      <th>sensor_5</th>\n",
       "      <th>sensor_6</th>\n",
       "      <th>target</th>\n",
       "    </tr>\n",
       "  </thead>\n",
       "  <tbody>\n",
       "    <tr>\n",
       "      <th>0</th>\n",
       "      <td>0.474335</td>\n",
       "      <td>0.881640</td>\n",
       "      <td>-2.050543</td>\n",
       "      <td>-1.251935</td>\n",
       "      <td>-1.035151</td>\n",
       "      <td>-1.934367</td>\n",
       "      <td>4</td>\n",
       "    </tr>\n",
       "    <tr>\n",
       "      <th>1</th>\n",
       "      <td>-1.034675</td>\n",
       "      <td>1.741801</td>\n",
       "      <td>-1.660629</td>\n",
       "      <td>-1.555989</td>\n",
       "      <td>-0.337553</td>\n",
       "      <td>-2.473838</td>\n",
       "      <td>0</td>\n",
       "    </tr>\n",
       "    <tr>\n",
       "      <th>2</th>\n",
       "      <td>-0.563221</td>\n",
       "      <td>-0.688381</td>\n",
       "      <td>-0.318415</td>\n",
       "      <td>-1.845172</td>\n",
       "      <td>0.352366</td>\n",
       "      <td>-0.912928</td>\n",
       "      <td>1</td>\n",
       "    </tr>\n",
       "    <tr>\n",
       "      <th>3</th>\n",
       "      <td>-1.268179</td>\n",
       "      <td>2.770688</td>\n",
       "      <td>1.054193</td>\n",
       "      <td>2.830389</td>\n",
       "      <td>0.395093</td>\n",
       "      <td>0.677715</td>\n",
       "      <td>3</td>\n",
       "    </tr>\n",
       "    <tr>\n",
       "      <th>4</th>\n",
       "      <td>-1.216380</td>\n",
       "      <td>-0.391267</td>\n",
       "      <td>-2.898931</td>\n",
       "      <td>-0.913074</td>\n",
       "      <td>-2.171857</td>\n",
       "      <td>-2.367490</td>\n",
       "      <td>0</td>\n",
       "    </tr>\n",
       "  </tbody>\n",
       "</table>\n",
       "</div>"
      ],
      "text/plain": [
       "   sensor_1  sensor_2  sensor_3  sensor_4  sensor_5  sensor_6  target\n",
       "0  0.474335  0.881640 -2.050543 -1.251935 -1.035151 -1.934367       4\n",
       "1 -1.034675  1.741801 -1.660629 -1.555989 -0.337553 -2.473838       0\n",
       "2 -0.563221 -0.688381 -0.318415 -1.845172  0.352366 -0.912928       1\n",
       "3 -1.268179  2.770688  1.054193  2.830389  0.395093  0.677715       3\n",
       "4 -1.216380 -0.391267 -2.898931 -0.913074 -2.171857 -2.367490       0"
      ]
     },
     "execution_count": 3,
     "metadata": {},
     "output_type": "execute_result"
    }
   ],
   "source": [
    "df.head()"
   ]
  },
  {
   "cell_type": "code",
   "execution_count": 4,
   "id": "2d719bd4",
   "metadata": {
    "ExecuteTime": {
     "end_time": "2022-06-21T18:42:57.450208Z",
     "start_time": "2022-06-21T18:42:57.437243Z"
    }
   },
   "outputs": [
    {
     "data": {
      "text/plain": [
       "(2100, 7)"
      ]
     },
     "execution_count": 4,
     "metadata": {},
     "output_type": "execute_result"
    }
   ],
   "source": [
    "df.shape"
   ]
  },
  {
   "cell_type": "code",
   "execution_count": 5,
   "id": "0029f5db",
   "metadata": {
    "ExecuteTime": {
     "end_time": "2022-06-21T18:42:57.999344Z",
     "start_time": "2022-06-21T18:42:57.453206Z"
    },
    "scrolled": true
   },
   "outputs": [
    {
     "data": {
      "text/plain": [
       "sensor_1    0\n",
       "sensor_2    0\n",
       "sensor_3    0\n",
       "sensor_4    0\n",
       "sensor_5    0\n",
       "sensor_6    0\n",
       "target      0\n",
       "dtype: int64"
      ]
     },
     "execution_count": 5,
     "metadata": {},
     "output_type": "execute_result"
    }
   ],
   "source": [
    "df.isna().sum()"
   ]
  },
  {
   "cell_type": "code",
   "execution_count": 8,
   "id": "dd1eb9ba",
   "metadata": {},
   "outputs": [
    {
     "data": {
      "text/plain": [
       "0    427\n",
       "3    426\n",
       "1    423\n",
       "2    419\n",
       "4    405\n",
       "Name: target, dtype: int64"
      ]
     },
     "execution_count": 8,
     "metadata": {},
     "output_type": "execute_result"
    }
   ],
   "source": [
    "df.target.value_counts()"
   ]
  },
  {
   "cell_type": "markdown",
   "id": "e572f681",
   "metadata": {},
   "source": [
    "Los valores del target están balanceados, es decir, no hay valores subrepresentados. Tampoco hay datos faltantes en el dataset por lo que se puede seguir. Se procede a explorar las features. El objetivo es ver cómo se comportan para escoger qué feature engineering aplicarles, sobre todo, ver qué distribución tienen y si hay valores atípicos (outliers). "
   ]
  },
  {
   "cell_type": "code",
   "execution_count": 3,
   "id": "bac880a6",
   "metadata": {
    "ExecuteTime": {
     "end_time": "2022-06-25T22:40:55.592512Z",
     "start_time": "2022-06-25T22:40:55.134281Z"
    }
   },
   "outputs": [
    {
     "data": {
      "text/html": [
       "<div>\n",
       "<style scoped>\n",
       "    .dataframe tbody tr th:only-of-type {\n",
       "        vertical-align: middle;\n",
       "    }\n",
       "\n",
       "    .dataframe tbody tr th {\n",
       "        vertical-align: top;\n",
       "    }\n",
       "\n",
       "    .dataframe thead th {\n",
       "        text-align: right;\n",
       "    }\n",
       "</style>\n",
       "<table border=\"1\" class=\"dataframe\">\n",
       "  <thead>\n",
       "    <tr style=\"text-align: right;\">\n",
       "      <th></th>\n",
       "      <th>sensor_1</th>\n",
       "      <th>sensor_2</th>\n",
       "      <th>sensor_3</th>\n",
       "      <th>sensor_4</th>\n",
       "      <th>sensor_5</th>\n",
       "      <th>sensor_6</th>\n",
       "    </tr>\n",
       "  </thead>\n",
       "  <tbody>\n",
       "    <tr>\n",
       "      <th>count</th>\n",
       "      <td>2100.000000</td>\n",
       "      <td>2100.000000</td>\n",
       "      <td>2100.000000</td>\n",
       "      <td>2100.000000</td>\n",
       "      <td>2100.000000</td>\n",
       "      <td>2100.000000</td>\n",
       "    </tr>\n",
       "    <tr>\n",
       "      <th>mean</th>\n",
       "      <td>-0.204656</td>\n",
       "      <td>0.199249</td>\n",
       "      <td>-0.378140</td>\n",
       "      <td>-0.206425</td>\n",
       "      <td>-0.186419</td>\n",
       "      <td>-0.433229</td>\n",
       "    </tr>\n",
       "    <tr>\n",
       "      <th>std</th>\n",
       "      <td>1.543613</td>\n",
       "      <td>1.614024</td>\n",
       "      <td>1.450548</td>\n",
       "      <td>1.442225</td>\n",
       "      <td>1.501573</td>\n",
       "      <td>1.188791</td>\n",
       "    </tr>\n",
       "    <tr>\n",
       "      <th>min</th>\n",
       "      <td>-6.683655</td>\n",
       "      <td>-5.383371</td>\n",
       "      <td>-6.147055</td>\n",
       "      <td>-5.653594</td>\n",
       "      <td>-5.912521</td>\n",
       "      <td>-4.433189</td>\n",
       "    </tr>\n",
       "    <tr>\n",
       "      <th>25%</th>\n",
       "      <td>-1.171340</td>\n",
       "      <td>-0.877386</td>\n",
       "      <td>-1.365990</td>\n",
       "      <td>-1.259403</td>\n",
       "      <td>-1.211685</td>\n",
       "      <td>-1.131944</td>\n",
       "    </tr>\n",
       "    <tr>\n",
       "      <th>50%</th>\n",
       "      <td>-0.443868</td>\n",
       "      <td>0.320507</td>\n",
       "      <td>-0.439745</td>\n",
       "      <td>-0.176504</td>\n",
       "      <td>-0.195751</td>\n",
       "      <td>-0.406754</td>\n",
       "    </tr>\n",
       "    <tr>\n",
       "      <th>75%</th>\n",
       "      <td>0.890023</td>\n",
       "      <td>1.321430</td>\n",
       "      <td>0.662898</td>\n",
       "      <td>0.866879</td>\n",
       "      <td>0.851843</td>\n",
       "      <td>0.348593</td>\n",
       "    </tr>\n",
       "    <tr>\n",
       "      <th>max</th>\n",
       "      <td>4.565547</td>\n",
       "      <td>6.700133</td>\n",
       "      <td>4.157518</td>\n",
       "      <td>4.371912</td>\n",
       "      <td>5.068783</td>\n",
       "      <td>4.016324</td>\n",
       "    </tr>\n",
       "  </tbody>\n",
       "</table>\n",
       "</div>"
      ],
      "text/plain": [
       "          sensor_1     sensor_2     sensor_3     sensor_4     sensor_5  \\\n",
       "count  2100.000000  2100.000000  2100.000000  2100.000000  2100.000000   \n",
       "mean     -0.204656     0.199249    -0.378140    -0.206425    -0.186419   \n",
       "std       1.543613     1.614024     1.450548     1.442225     1.501573   \n",
       "min      -6.683655    -5.383371    -6.147055    -5.653594    -5.912521   \n",
       "25%      -1.171340    -0.877386    -1.365990    -1.259403    -1.211685   \n",
       "50%      -0.443868     0.320507    -0.439745    -0.176504    -0.195751   \n",
       "75%       0.890023     1.321430     0.662898     0.866879     0.851843   \n",
       "max       4.565547     6.700133     4.157518     4.371912     5.068783   \n",
       "\n",
       "          sensor_6  \n",
       "count  2100.000000  \n",
       "mean     -0.433229  \n",
       "std       1.188791  \n",
       "min      -4.433189  \n",
       "25%      -1.131944  \n",
       "50%      -0.406754  \n",
       "75%       0.348593  \n",
       "max       4.016324  "
      ]
     },
     "execution_count": 3,
     "metadata": {},
     "output_type": "execute_result"
    }
   ],
   "source": [
    "features = df.drop(\"target\", axis = 1)\n",
    "features.describe()"
   ]
  },
  {
   "cell_type": "code",
   "execution_count": 18,
   "id": "a9800df3",
   "metadata": {
    "scrolled": true
   },
   "outputs": [
    {
     "name": "stderr",
     "output_type": "stream",
     "text": [
      "C:\\ProgramData\\Anaconda3\\lib\\site-packages\\statsmodels\\stats\\outliers_influence.py:193: RuntimeWarning: divide by zero encountered in double_scalars\n",
      "  vif = 1. / (1. - r_squared_i)\n"
     ]
    },
    {
     "data": {
      "text/html": [
       "<div>\n",
       "<style scoped>\n",
       "    .dataframe tbody tr th:only-of-type {\n",
       "        vertical-align: middle;\n",
       "    }\n",
       "\n",
       "    .dataframe tbody tr th {\n",
       "        vertical-align: top;\n",
       "    }\n",
       "\n",
       "    .dataframe thead th {\n",
       "        text-align: right;\n",
       "    }\n",
       "</style>\n",
       "<table border=\"1\" class=\"dataframe\">\n",
       "  <thead>\n",
       "    <tr style=\"text-align: right;\">\n",
       "      <th></th>\n",
       "      <th>variables</th>\n",
       "      <th>VIF</th>\n",
       "    </tr>\n",
       "  </thead>\n",
       "  <tbody>\n",
       "    <tr>\n",
       "      <th>0</th>\n",
       "      <td>sensor_1</td>\n",
       "      <td>inf</td>\n",
       "    </tr>\n",
       "    <tr>\n",
       "      <th>1</th>\n",
       "      <td>sensor_2</td>\n",
       "      <td>inf</td>\n",
       "    </tr>\n",
       "    <tr>\n",
       "      <th>2</th>\n",
       "      <td>sensor_3</td>\n",
       "      <td>inf</td>\n",
       "    </tr>\n",
       "    <tr>\n",
       "      <th>3</th>\n",
       "      <td>sensor_4</td>\n",
       "      <td>inf</td>\n",
       "    </tr>\n",
       "    <tr>\n",
       "      <th>4</th>\n",
       "      <td>sensor_5</td>\n",
       "      <td>inf</td>\n",
       "    </tr>\n",
       "    <tr>\n",
       "      <th>5</th>\n",
       "      <td>sensor_6</td>\n",
       "      <td>inf</td>\n",
       "    </tr>\n",
       "  </tbody>\n",
       "</table>\n",
       "</div>"
      ],
      "text/plain": [
       "  variables  VIF\n",
       "0  sensor_1  inf\n",
       "1  sensor_2  inf\n",
       "2  sensor_3  inf\n",
       "3  sensor_4  inf\n",
       "4  sensor_5  inf\n",
       "5  sensor_6  inf"
      ]
     },
     "execution_count": 18,
     "metadata": {},
     "output_type": "execute_result"
    }
   ],
   "source": [
    "#show multicollinearity in features\n",
    "def vif(X):\n",
    "    vifDF = pd.DataFrame()\n",
    "    vifDF[\"variables\"] = X.columns\n",
    "    vifDF[\"VIF\"] = [variance_inflation_factor(X.values, i) for i in range(X.shape[1])]\n",
    "    return vifDF\n",
    "\n",
    "vif(features)"
   ]
  },
  {
   "cell_type": "markdown",
   "id": "508305dc",
   "metadata": {},
   "source": [
    "El código ejecutado en la celda superior muestra un factor de inflación de la varianza (VIF) infinito. Cuanto más alto es este valor, más colinearidad hay entre features, y a partir de un VIF de 5 se considera ya colinearidad. En este caso, el infinito calculado se debe a que $r^{2}$, el valor que representa la colinearidad y correlación, es igual a 1, lo que provoca una división entre 0, como se ve en la siguiente fórmula:\n",
    "\n",
    "$ VIF = \\frac{1}{1 - r^{2}} $\n",
    "\n",
    "Esto indica que aplicar análisis de componentes principales (PCA) podría ayudar al rendimiento del modelo. "
   ]
  },
  {
   "cell_type": "code",
   "execution_count": 7,
   "id": "0b1e7073",
   "metadata": {
    "ExecuteTime": {
     "end_time": "2022-06-21T19:24:18.926174Z",
     "start_time": "2022-06-21T19:24:18.506785Z"
    }
   },
   "outputs": [
    {
     "data": {
      "image/png": "[encoded data removed]",
      "text/plain": [
       "<Figure size 720x576 with 1 Axes>"
      ]
     },
     "metadata": {
      "needs_background": "light"
     },
     "output_type": "display_data"
    }
   ],
   "source": [
    "plt.figure(figsize = (10, 8))\n",
    "sns.boxplot(data = features, palette = \"viridis\").set(title = \"Distribución de los datos\")\n",
    "plt.show()"
   ]
  },
  {
   "cell_type": "markdown",
   "id": "1f457248",
   "metadata": {},
   "source": [
    "La gráfica muestra que la mitad de los datos cae en un rango de -1 a 1 aproximadamente pero también hay bastantes valores atípicos en todos los casos. Por esta razón, se van a aplicar métodos de estandarización que no sean tan sensibles a outliers. Se probarán varios métodos para veriguar cuál aporta el mejor resultado para este dataset: RobustScaler, PowerTransformer Yeo-Johnson, y QuantileTransformer uniforme y normal.\n",
    "\n",
    "También se dividirán los datos en train y test, lo que ayudará a la hora de seleccionar tanto el método de ingeniería de variables adecuado, como el modelo en sí."
   ]
  },
  {
   "cell_type": "markdown",
   "id": "d66392eb",
   "metadata": {},
   "source": [
    "## Prueba de los modelos"
   ]
  },
  {
   "cell_type": "code",
   "execution_count": 4,
   "id": "2d0fbdcf",
   "metadata": {
    "ExecuteTime": {
     "end_time": "2022-06-25T22:40:55.608469Z",
     "start_time": "2022-06-25T22:40:55.596500Z"
    }
   },
   "outputs": [],
   "source": [
    "#split into test and train\n",
    "X_train, X_test, y_train, y_test = train_test_split(features, df.target, test_size = 0.3, random_state = 8)"
   ]
  },
  {
   "cell_type": "markdown",
   "id": "e48c56ae",
   "metadata": {},
   "source": [
    "Como también se quiere ver si aplicando un PCA se consigue un mejor modelo, hay que calcular el número de componentes a escoger para perder el mínimo de información posible. En este caso, se escoge una varianza acumulada explicada de 99%."
   ]
  },
  {
   "cell_type": "code",
   "execution_count": 16,
   "id": "be451bc8",
   "metadata": {
    "ExecuteTime": {
     "end_time": "2022-06-22T17:12:02.567955Z",
     "start_time": "2022-06-22T17:12:02.338062Z"
    }
   },
   "outputs": [
    {
     "data": {
      "image/png": "[encoded data removed]",
      "text/plain": [
       "<Figure size 432x288 with 1 Axes>"
      ]
     },
     "metadata": {
      "needs_background": "light"
     },
     "output_type": "display_data"
    }
   ],
   "source": [
    "pca = PCA().fit(features)\n",
    "plt.plot(np.cumsum(pca.explained_variance_ratio_), marker = \"o\")\n",
    "plt.axhline(0.99, color = \"r\", linestyle = \"--\")\n",
    "plt.xlim([0, 5])\n",
    "plt.xlabel(\"Número de componentes\")\n",
    "plt.ylabel(\"Varianza acumulada explicada\")\n",
    "plt.show()"
   ]
  },
  {
   "cell_type": "markdown",
   "id": "658bf08f",
   "metadata": {},
   "source": [
    "El resultado obtenido es que se puede reducir a 3 variables mediante el PCA perdiendo el mínimo posible de información mientras se reduce la colinearidad también. Se aplicará el PCA a los datos escalados, pero también se entrenarán los modelos sin PCA para ver cómo es su desempeño.Para ello se creará una pipeline de cada una de las opciones. "
   ]
  },
  {
   "cell_type": "code",
   "execution_count": 5,
   "id": "5b9e00a1",
   "metadata": {
    "ExecuteTime": {
     "end_time": "2022-06-25T22:40:55.764905Z",
     "start_time": "2022-06-25T22:40:55.611463Z"
    }
   },
   "outputs": [],
   "source": [
    "models = [\n",
    "    (\"LR\", LogisticRegression()),\n",
    "    (\"KNN\", KNeighborsClassifier()),\n",
    "    (\"SVM\", SVC(random_state = 8, probability = True)),\n",
    "    (\"RF\", RandomForestClassifier(max_depth=3, random_state=8))\n",
    "    ]\n",
    "scalers = [\n",
    "    (\"RobustScaler\", RobustScaler()),\n",
    "    (\"QuantileTransformer-Normal\", QuantileTransformer(output_distribution = \"normal\", n_quantiles = 10)),\n",
    "    (\"QuantileTransformer-Uniform\", QuantileTransformer(output_distribution = \"uniform\", n_quantiles = 10)),\n",
    "    (\"PowerTransformer-Yeo-Johnson\", PowerTransformer(method = \"yeo-johnson\"))\n",
    "          ]\n",
    "pca = [(\"PCA\", PCA(n_components = 3))\n",
    "      ]"
   ]
  },
  {
   "cell_type": "code",
   "execution_count": 6,
   "id": "3eaa9c8a",
   "metadata": {
    "ExecuteTime": {
     "end_time": "2022-06-25T22:40:55.952596Z",
     "start_time": "2022-06-25T22:40:55.766903Z"
    }
   },
   "outputs": [],
   "source": [
    "#create pipelines\n",
    "pipelines = []\n",
    "#loop for model scaled\n",
    "for model in models:\n",
    "    for scalar in scalers:\n",
    "        model_name = scalar[0] + \"_\" + model[0]\n",
    "        pipelines.append((model_name, Pipeline([scalar, model])))\n",
    "\n",
    "#loop for model scaled and PCA\n",
    "for model in models:\n",
    "    for scalar in scalers:\n",
    "        for p in pca:\n",
    "            model_name = scalar[0] + \"_\" + model[0] + \"_\" + (p[0])\n",
    "            pipelines.append((model_name, Pipeline([scalar, p, model])))"
   ]
  },
  {
   "cell_type": "markdown",
   "id": "55e5188c",
   "metadata": {},
   "source": [
    "A continuación, se hará un gridsearch para ajustar los hiperparámetros de cada algoritmo de manera que estos den un F1 macro lo más alto posible. También se hará una validación cruzada (cross validation) para asegurar esos datos. Se entrenará cada modelo con el subgrupo train, se probará en el test y se calculará el F1 macro. Despues de calcular todos estos datos, se añadirán a un diccionario con el que luego se creará un DataFrame que permitirá encontrar el F1 macro de mayor valor obtenido. Ese será, pues, el modelo que se utilizará para entrenar todo el conjunto de datos y se utilizará para predecir el target. "
   ]
  },
  {
   "cell_type": "code",
   "execution_count": 7,
   "id": "3addd564",
   "metadata": {
    "ExecuteTime": {
     "end_time": "2022-06-25T22:40:56.185360Z",
     "start_time": "2022-06-25T22:40:55.954594Z"
    }
   },
   "outputs": [],
   "source": [
    "#logistic regression hyperparameters\n",
    "C = [x for x in np.arange(0.1, 3, 0.2)]\n",
    "penalty = [\"l2\"]\n",
    "fit_intercept = [True, False]\n",
    "lr_params = {\"LR__C\": C,\n",
    "             \"LR__penalty\": penalty,\n",
    "             \"LR__fit_intercept\": fit_intercept\n",
    "            }\n",
    "\n",
    "#kneighbors hyperparameters\n",
    "n_neighbors = [int(x) for x in np.linspace(start = 1, stop = 20, num = 2)]\n",
    "weights = [\"uniform\", \"distance\"]\n",
    "algorithm = [\"auto\", \"ball_tree\", \"kd_tree\", \"brute\"]\n",
    "leaf_size = [int(x) for x in np.linspace(start = 5, stop = 50, num = 2)]\n",
    "p = [int(x) for x in np.linspace(start = 1, stop = 4, num = 1)]\n",
    "knn_params = {\"KNN__n_neighbors\": n_neighbors,\n",
    "              \"KNN__weights\": weights,\n",
    "              \"KNN__algorithm\": algorithm,\n",
    "              \"KNN__leaf_size\": leaf_size,\n",
    "              \"KNN__p\": p\n",
    "             }\n",
    "\n",
    "#SVM hyperparameters\n",
    "C = [x for x in np.arange(0.1, 2, 0.2)]\n",
    "kernel = [\"linear\", \"poly\", \"rbf\", \"sigmoid\"]\n",
    "svm_params = {\"SVM__C\": C,\n",
    "              \"SVM__kernel\": kernel\n",
    "             }\n",
    "\n",
    "#random forest hyperparameters\n",
    "n_estimators = [int(x) for x in np.linspace(start = 3, stop = 20, num = 3)]\n",
    "max_features = [\"auto\", \"sqrt\"]\n",
    "max_depth = [int(x) for x in np.linspace(10, 110, num = 11)]\n",
    "max_depth.append(None)\n",
    "min_samples_split = [2, 5, 10]\n",
    "min_samples_leaf = [1, 2, 4]\n",
    "rf_params = {\"RF__n_estimators\": n_estimators,\n",
    "             \"RF__max_features\": max_features,\n",
    "             \"RF__max_depth\": max_depth,\n",
    "             \"RF__min_samples_split\": min_samples_split,\n",
    "             \"RF__min_samples_leaf\": min_samples_leaf\n",
    "            }"
   ]
  },
  {
   "cell_type": "code",
   "execution_count": 8,
   "id": "61c6f1c0",
   "metadata": {
    "ExecuteTime": {
     "end_time": "2022-06-25T22:40:56.889651Z",
     "start_time": "2022-06-25T22:40:56.187321Z"
    }
   },
   "outputs": [],
   "source": [
    "#dictionary with all the hyperparameters\n",
    "hypertuned_params = {\"LR\": lr_params,\n",
    "                     \"KNN\": knn_params,\n",
    "                     \"SVM\": svm_params,\n",
    "                     \"RF\": rf_params\n",
    "                    }"
   ]
  },
  {
   "cell_type": "code",
   "execution_count": 9,
   "id": "0f1148a6",
   "metadata": {
    "ExecuteTime": {
     "end_time": "2022-06-26T00:50:01.097156Z",
     "start_time": "2022-06-25T22:40:56.893201Z"
    }
   },
   "outputs": [
    {
     "name": "stdout",
     "output_type": "stream",
     "text": [
      "First name is :  LR\n",
      "RobustScaler_LR: 0.519419 (0.041381)\n",
      "QuantileTransformer-Normal_LR: 0.529825 (0.032646)\n"
     ]
    },
    {
     "name": "stderr",
     "output_type": "stream",
     "text": [
      "C:\\Users\\Nuria\\anaconda3\\lib\\site-packages\\sklearn\\linear_model\\_logistic.py:814: ConvergenceWarning: lbfgs failed to converge (status=1):\n",
      "STOP: TOTAL NO. of ITERATIONS REACHED LIMIT.\n",
      "\n",
      "Increase the number of iterations (max_iter) or scale the data as shown in:\n",
      "    https://scikit-learn.org/stable/modules/preprocessing.html\n",
      "Please also refer to the documentation for alternative solver options:\n",
      "    https://scikit-learn.org/stable/modules/linear_model.html#logistic-regression\n",
      "  n_iter_i = _check_optimize_result(\n",
      "C:\\Users\\Nuria\\anaconda3\\lib\\site-packages\\sklearn\\linear_model\\_logistic.py:814: ConvergenceWarning: lbfgs failed to converge (status=1):\n",
      "STOP: TOTAL NO. of ITERATIONS REACHED LIMIT.\n",
      "\n",
      "Increase the number of iterations (max_iter) or scale the data as shown in:\n",
      "    https://scikit-learn.org/stable/modules/preprocessing.html\n",
      "Please also refer to the documentation for alternative solver options:\n",
      "    https://scikit-learn.org/stable/modules/linear_model.html#logistic-regression\n",
      "  n_iter_i = _check_optimize_result(\n",
      "C:\\Users\\Nuria\\anaconda3\\lib\\site-packages\\sklearn\\linear_model\\_logistic.py:814: ConvergenceWarning: lbfgs failed to converge (status=1):\n",
      "STOP: TOTAL NO. of ITERATIONS REACHED LIMIT.\n",
      "\n",
      "Increase the number of iterations (max_iter) or scale the data as shown in:\n",
      "    https://scikit-learn.org/stable/modules/preprocessing.html\n",
      "Please also refer to the documentation for alternative solver options:\n",
      "    https://scikit-learn.org/stable/modules/linear_model.html#logistic-regression\n",
      "  n_iter_i = _check_optimize_result(\n",
      "C:\\Users\\Nuria\\anaconda3\\lib\\site-packages\\sklearn\\linear_model\\_logistic.py:814: ConvergenceWarning: lbfgs failed to converge (status=1):\n",
      "STOP: TOTAL NO. of ITERATIONS REACHED LIMIT.\n",
      "\n",
      "Increase the number of iterations (max_iter) or scale the data as shown in:\n",
      "    https://scikit-learn.org/stable/modules/preprocessing.html\n",
      "Please also refer to the documentation for alternative solver options:\n",
      "    https://scikit-learn.org/stable/modules/linear_model.html#logistic-regression\n",
      "  n_iter_i = _check_optimize_result(\n",
      "C:\\Users\\Nuria\\anaconda3\\lib\\site-packages\\sklearn\\linear_model\\_logistic.py:814: ConvergenceWarning: lbfgs failed to converge (status=1):\n",
      "STOP: TOTAL NO. of ITERATIONS REACHED LIMIT.\n",
      "\n",
      "Increase the number of iterations (max_iter) or scale the data as shown in:\n",
      "    https://scikit-learn.org/stable/modules/preprocessing.html\n",
      "Please also refer to the documentation for alternative solver options:\n",
      "    https://scikit-learn.org/stable/modules/linear_model.html#logistic-regression\n",
      "  n_iter_i = _check_optimize_result(\n",
      "C:\\Users\\Nuria\\anaconda3\\lib\\site-packages\\sklearn\\linear_model\\_logistic.py:814: ConvergenceWarning: lbfgs failed to converge (status=1):\n",
      "STOP: TOTAL NO. of ITERATIONS REACHED LIMIT.\n",
      "\n",
      "Increase the number of iterations (max_iter) or scale the data as shown in:\n",
      "    https://scikit-learn.org/stable/modules/preprocessing.html\n",
      "Please also refer to the documentation for alternative solver options:\n",
      "    https://scikit-learn.org/stable/modules/linear_model.html#logistic-regression\n",
      "  n_iter_i = _check_optimize_result(\n",
      "C:\\Users\\Nuria\\anaconda3\\lib\\site-packages\\sklearn\\linear_model\\_logistic.py:814: ConvergenceWarning: lbfgs failed to converge (status=1):\n",
      "STOP: TOTAL NO. of ITERATIONS REACHED LIMIT.\n",
      "\n",
      "Increase the number of iterations (max_iter) or scale the data as shown in:\n",
      "    https://scikit-learn.org/stable/modules/preprocessing.html\n",
      "Please also refer to the documentation for alternative solver options:\n",
      "    https://scikit-learn.org/stable/modules/linear_model.html#logistic-regression\n",
      "  n_iter_i = _check_optimize_result(\n",
      "C:\\Users\\Nuria\\anaconda3\\lib\\site-packages\\sklearn\\linear_model\\_logistic.py:814: ConvergenceWarning: lbfgs failed to converge (status=1):\n",
      "STOP: TOTAL NO. of ITERATIONS REACHED LIMIT.\n",
      "\n",
      "Increase the number of iterations (max_iter) or scale the data as shown in:\n",
      "    https://scikit-learn.org/stable/modules/preprocessing.html\n",
      "Please also refer to the documentation for alternative solver options:\n",
      "    https://scikit-learn.org/stable/modules/linear_model.html#logistic-regression\n",
      "  n_iter_i = _check_optimize_result(\n",
      "C:\\Users\\Nuria\\anaconda3\\lib\\site-packages\\sklearn\\linear_model\\_logistic.py:814: ConvergenceWarning: lbfgs failed to converge (status=1):\n",
      "STOP: TOTAL NO. of ITERATIONS REACHED LIMIT.\n",
      "\n",
      "Increase the number of iterations (max_iter) or scale the data as shown in:\n",
      "    https://scikit-learn.org/stable/modules/preprocessing.html\n",
      "Please also refer to the documentation for alternative solver options:\n",
      "    https://scikit-learn.org/stable/modules/linear_model.html#logistic-regression\n",
      "  n_iter_i = _check_optimize_result(\n",
      "C:\\Users\\Nuria\\anaconda3\\lib\\site-packages\\sklearn\\linear_model\\_logistic.py:814: ConvergenceWarning: lbfgs failed to converge (status=1):\n",
      "STOP: TOTAL NO. of ITERATIONS REACHED LIMIT.\n",
      "\n",
      "Increase the number of iterations (max_iter) or scale the data as shown in:\n",
      "    https://scikit-learn.org/stable/modules/preprocessing.html\n",
      "Please also refer to the documentation for alternative solver options:\n",
      "    https://scikit-learn.org/stable/modules/linear_model.html#logistic-regression\n",
      "  n_iter_i = _check_optimize_result(\n",
      "C:\\Users\\Nuria\\anaconda3\\lib\\site-packages\\sklearn\\linear_model\\_logistic.py:814: ConvergenceWarning: lbfgs failed to converge (status=1):\n",
      "STOP: TOTAL NO. of ITERATIONS REACHED LIMIT.\n",
      "\n",
      "Increase the number of iterations (max_iter) or scale the data as shown in:\n",
      "    https://scikit-learn.org/stable/modules/preprocessing.html\n",
      "Please also refer to the documentation for alternative solver options:\n",
      "    https://scikit-learn.org/stable/modules/linear_model.html#logistic-regression\n",
      "  n_iter_i = _check_optimize_result(\n",
      "C:\\Users\\Nuria\\anaconda3\\lib\\site-packages\\sklearn\\linear_model\\_logistic.py:814: ConvergenceWarning: lbfgs failed to converge (status=1):\n",
      "STOP: TOTAL NO. of ITERATIONS REACHED LIMIT.\n",
      "\n",
      "Increase the number of iterations (max_iter) or scale the data as shown in:\n",
      "    https://scikit-learn.org/stable/modules/preprocessing.html\n",
      "Please also refer to the documentation for alternative solver options:\n",
      "    https://scikit-learn.org/stable/modules/linear_model.html#logistic-regression\n",
      "  n_iter_i = _check_optimize_result(\n",
      "C:\\Users\\Nuria\\anaconda3\\lib\\site-packages\\sklearn\\linear_model\\_logistic.py:814: ConvergenceWarning: lbfgs failed to converge (status=1):\n",
      "STOP: TOTAL NO. of ITERATIONS REACHED LIMIT.\n",
      "\n",
      "Increase the number of iterations (max_iter) or scale the data as shown in:\n",
      "    https://scikit-learn.org/stable/modules/preprocessing.html\n",
      "Please also refer to the documentation for alternative solver options:\n",
      "    https://scikit-learn.org/stable/modules/linear_model.html#logistic-regression\n",
      "  n_iter_i = _check_optimize_result(\n",
      "C:\\Users\\Nuria\\anaconda3\\lib\\site-packages\\sklearn\\linear_model\\_logistic.py:814: ConvergenceWarning: lbfgs failed to converge (status=1):\n",
      "STOP: TOTAL NO. of ITERATIONS REACHED LIMIT.\n",
      "\n",
      "Increase the number of iterations (max_iter) or scale the data as shown in:\n",
      "    https://scikit-learn.org/stable/modules/preprocessing.html\n",
      "Please also refer to the documentation for alternative solver options:\n",
      "    https://scikit-learn.org/stable/modules/linear_model.html#logistic-regression\n",
      "  n_iter_i = _check_optimize_result(\n",
      "C:\\Users\\Nuria\\anaconda3\\lib\\site-packages\\sklearn\\linear_model\\_logistic.py:814: ConvergenceWarning: lbfgs failed to converge (status=1):\n",
      "STOP: TOTAL NO. of ITERATIONS REACHED LIMIT.\n",
      "\n",
      "Increase the number of iterations (max_iter) or scale the data as shown in:\n",
      "    https://scikit-learn.org/stable/modules/preprocessing.html\n",
      "Please also refer to the documentation for alternative solver options:\n",
      "    https://scikit-learn.org/stable/modules/linear_model.html#logistic-regression\n",
      "  n_iter_i = _check_optimize_result(\n"
     ]
    },
    {
     "name": "stdout",
     "output_type": "stream",
     "text": [
      "QuantileTransformer-Uniform_LR: 0.516211 (0.023780)\n",
      "PowerTransformer-Yeo-Johnson_LR: 0.534341 (0.023168)\n",
      "RobustScaler_KNN: 0.728767 (0.025205)\n",
      "QuantileTransformer-Normal_KNN: 0.730557 (0.016890)\n",
      "QuantileTransformer-Uniform_KNN: 0.739862 (0.020169)\n",
      "PowerTransformer-Yeo-Johnson_KNN: 0.732662 (0.024741)\n",
      "RobustScaler_SVM: 0.744900 (0.022407)\n",
      "QuantileTransformer-Normal_SVM: 0.746098 (0.025835)\n",
      "QuantileTransformer-Uniform_SVM: 0.744373 (0.029688)\n",
      "PowerTransformer-Yeo-Johnson_SVM: 0.740669 (0.019685)\n",
      "RobustScaler_RF: 0.745132 (0.026662)\n",
      "QuantileTransformer-Normal_RF: 0.744419 (0.028708)\n",
      "QuantileTransformer-Uniform_RF: 0.739454 (0.029239)\n",
      "PowerTransformer-Yeo-Johnson_RF: 0.745809 (0.027379)\n",
      "RobustScaler_LR_PCA: 0.403874 (0.017696)\n",
      "QuantileTransformer-Normal_LR_PCA: 0.398349 (0.019005)\n",
      "QuantileTransformer-Uniform_LR_PCA: 0.398229 (0.015723)\n",
      "PowerTransformer-Yeo-Johnson_LR_PCA: 0.395702 (0.016578)\n",
      "RobustScaler_KNN_PCA: 0.619600 (0.028235)\n",
      "QuantileTransformer-Normal_KNN_PCA: 0.612637 (0.023061)\n",
      "QuantileTransformer-Uniform_KNN_PCA: 0.610676 (0.029911)\n",
      "PowerTransformer-Yeo-Johnson_KNN_PCA: 0.615414 (0.018509)\n",
      "RobustScaler_SVM_PCA: 0.630499 (0.028909)\n",
      "QuantileTransformer-Normal_SVM_PCA: 0.616392 (0.022743)\n",
      "QuantileTransformer-Uniform_SVM_PCA: 0.625220 (0.021431)\n",
      "PowerTransformer-Yeo-Johnson_SVM_PCA: 0.620792 (0.027536)\n",
      "RobustScaler_RF_PCA: 0.604171 (0.028095)\n",
      "QuantileTransformer-Normal_RF_PCA: 0.595667 (0.023038)\n",
      "QuantileTransformer-Uniform_RF_PCA: 0.617299 (0.011739)\n",
      "PowerTransformer-Yeo-Johnson_RF_PCA: 0.606491 (0.024056)\n"
     ]
    }
   ],
   "source": [
    "# list that contains the rows for the dataframe\n",
    "rows_list = []\n",
    "\n",
    "#lists for the pipeline results\n",
    "results = []\n",
    "names = []\n",
    "test_scores = []\n",
    "\n",
    "#for gridsearch and cross validation score \n",
    "cv = KFold(n_splits = 5)\n",
    "\n",
    "for name, model in pipelines:\n",
    "\n",
    "    #get model names\n",
    "    model_name = name.split(\"_\")[1]\n",
    "    if \"-\" in model_name:\n",
    "        model_name = model_name.split(\"-\")[0]\n",
    "    #get hyper parameters\n",
    "    if model_name in hypertuned_params.keys():\n",
    "        random_grid = hypertuned_params[model_name]\n",
    "    else:\n",
    "        continue\n",
    "\n",
    "    #train nested cross validation and gridsearch\n",
    "    clf = GridSearchCV(estimator = model, param_grid = random_grid, cv = cv, scoring = \"f1_macro\",\n",
    "                       error_score = \"raise\")\n",
    "    cv_results = cross_val_score(clf, X_train, y_train, cv = cv, scoring = \"f1_macro\")\n",
    "    results.append(cv_results)\n",
    "    names.append(name)\n",
    "\n",
    "    #print cross validation results of the best classifier\n",
    "    msg = \"%s: %f (%f)\" % (name, cv_results.mean(), cv_results.std())\n",
    "    print(msg)\n",
    "\n",
    "    #fit on train and predict on test\n",
    "    model.fit(X_train, y_train)\n",
    "    y_pred = model.predict(X_test)\n",
    "    curr_test_score = f1_score(y_test, y_pred, average = \"macro\")\n",
    "    test_scores.append(curr_test_score)\n",
    "\n",
    "    #add to dictionary for final dataframe\n",
    "    results_dict = {\"Classifier_Name\": name,\n",
    "                    \"CV_mean\": cv_results.mean(),\n",
    "                    \"CV_std\": cv_results.std(),\n",
    "                    \"F1_score\": curr_test_score\n",
    "                   }\n",
    "    rows_list.append(results_dict)"
   ]
  },
  {
   "cell_type": "code",
   "execution_count": 10,
   "id": "6ce975f7",
   "metadata": {
    "ExecuteTime": {
     "end_time": "2022-06-26T01:25:30.276244Z",
     "start_time": "2022-06-26T01:25:30.249317Z"
    }
   },
   "outputs": [],
   "source": [
    "#create dataframe with dictionary content\n",
    "df_results = pd.DataFrame(rows_list)"
   ]
  },
  {
   "cell_type": "code",
   "execution_count": 13,
   "id": "3c59b547",
   "metadata": {
    "ExecuteTime": {
     "end_time": "2022-06-26T01:27:03.644007Z",
     "start_time": "2022-06-26T01:27:03.436748Z"
    }
   },
   "outputs": [],
   "source": [
    "#save to csv to access it later\n",
    "df_results.to_csv(\"results_f1.csv\")"
   ]
  },
  {
   "cell_type": "code",
   "execution_count": 16,
   "id": "b8ecd8d0",
   "metadata": {
    "ExecuteTime": {
     "end_time": "2022-06-26T08:48:35.674923Z",
     "start_time": "2022-06-26T08:48:35.657955Z"
    }
   },
   "outputs": [
    {
     "data": {
      "text/plain": [
       "Classifier_Name    RobustScaler_KNN\n",
       "CV_mean                    0.728767\n",
       "CV_std                     0.025205\n",
       "F1_score                   0.761051\n",
       "Name: 4, dtype: object"
      ]
     },
     "execution_count": 16,
     "metadata": {},
     "output_type": "execute_result"
    }
   ],
   "source": [
    "#get row with highest f1 score \n",
    "df_results.loc[df_results[\"F1_score\"].idxmax()]"
   ]
  },
  {
   "cell_type": "markdown",
   "id": "26d05ef9",
   "metadata": {},
   "source": [
    "El F1 macro más alto obtenido es de aproximadamente 0,76 con un valor medio de validación cruzada de 0,73. Se ha obtenido con un escalado previo con RobustScaler, sin aplicar PCA y con el algoritmo KNeighbors. Estos resultados son bastante correctos, por lo que se procederá a reentrenar el modelo con todos los datos que hay en el archivo **train**, y se usará para predecir el target con los datos del archivo **test**. "
   ]
  },
  {
   "cell_type": "markdown",
   "id": "e24d2f6d",
   "metadata": {},
   "source": [
    "## Modelo final"
   ]
  },
  {
   "cell_type": "code",
   "execution_count": 45,
   "id": "2cb0195b",
   "metadata": {
    "ExecuteTime": {
     "end_time": "2022-06-26T10:38:40.881883Z",
     "start_time": "2022-06-26T10:38:40.866927Z"
    }
   },
   "outputs": [],
   "source": [
    "#gridsearch for the definitive model\n",
    "clf = GridSearchCV(estimator = pipelines[4][1], param_grid = knn_params, cv = cv, scoring = \"f1_macro\")\n",
    "\n",
    "#retrain with all the data\n",
    "result = clf.fit(features, df.target)"
   ]
  },
  {
   "cell_type": "code",
   "execution_count": 50,
   "id": "b28e5e77",
   "metadata": {
    "ExecuteTime": {
     "end_time": "2022-06-26T10:41:29.662964Z",
     "start_time": "2022-06-26T10:41:29.651030Z"
    }
   },
   "outputs": [
    {
     "name": "stdout",
     "output_type": "stream",
     "text": [
      "F1 macro:  0.7515\n"
     ]
    }
   ],
   "source": [
    "print(\"F1 macro: \", result.best_score_.round(4))"
   ]
  },
  {
   "cell_type": "code",
   "execution_count": 52,
   "id": "e693e06e",
   "metadata": {
    "ExecuteTime": {
     "end_time": "2022-06-26T10:54:05.143805Z",
     "start_time": "2022-06-26T10:54:04.910471Z"
    }
   },
   "outputs": [],
   "source": [
    "#read test file\n",
    "df2 = pd.read_csv(\"space_X_test.csv\", index_col = 0)\n",
    "\n",
    "#predict target on test data\n",
    "prediction = clf.predict(df2)\n",
    "\n",
    "#create dataframe with predictions\n",
    "pred_df = pd.DataFrame(data = prediction, columns = [\"target\"])\n",
    "\n",
    "#save as csv \n",
    "pred_df.to_csv(\"Space_X_prediction.csv\")"
   ]
  }
 ],
 "metadata": {
  "kernelspec": {
   "display_name": "Python 3 (ipykernel)",
   "language": "python",
   "name": "python3"
  },
  "language_info": {
   "codemirror_mode": {
    "name": "ipython",
    "version": 3
   },
   "file_extension": ".py",
   "mimetype": "text/x-python",
   "name": "python",
   "nbconvert_exporter": "python",
   "pygments_lexer": "ipython3",
   "version": "3.9.7"
  },
  "toc": {
   "base_numbering": 1,
   "nav_menu": {},
   "number_sections": true,
   "sideBar": true,
   "skip_h1_title": false,
   "title_cell": "Table of Contents",
   "title_sidebar": "Contents",
   "toc_cell": false,
   "toc_position": {},
   "toc_section_display": true,
   "toc_window_display": false
  }
 },
 "nbformat": 4,
 "nbformat_minor": 5
}
